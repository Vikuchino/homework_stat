{
  "nbformat": 4,
  "nbformat_minor": 0,
  "metadata": {
    "colab": {
      "provenance": []
    },
    "kernelspec": {
      "name": "python3",
      "display_name": "Python 3"
    },
    "language_info": {
      "name": "python"
    }
  },
  "cells": [
    {
      "cell_type": "code",
      "source": [
        "import numpy as np\n",
        "from scipy import stats"
      ],
      "metadata": {
        "id": "6EKborulBqW0"
      },
      "execution_count": 2,
      "outputs": []
    },
    {
      "cell_type": "markdown",
      "source": [
        "**Задача 1**\n",
        "\n",
        "Из партии батареек с номинальным напряжением 12 В наугад выбрано семь штук. Согласно показаниям высокоточного вольтметра, фактически выдаваемое ими напряжение составило: 12,9; 11,6; 13,5; 13,9; 12,1; 11,9; 13,0 В соответственно. Можно ли считать, что среднее напряжение действительно равно 12 В?"
      ],
      "metadata": {
        "id": "fCkq9w_R9PnI"
      }
    },
    {
      "cell_type": "code",
      "source": [
        "sample = np.array([12.9, 11.6, 13.5, 13.9, 12.1, 11.9, 13.0])\n",
        "\n",
        "# Проверим значения на нормальность\n",
        "stats.shapiro(sample)"
      ],
      "metadata": {
        "colab": {
          "base_uri": "https://localhost:8080/"
        },
        "id": "5jHOAGFlc61F",
        "outputId": "300c14cd-353e-4f89-f8ae-0b36ce88be8a"
      },
      "execution_count": 5,
      "outputs": [
        {
          "output_type": "execute_result",
          "data": {
            "text/plain": [
              "ShapiroResult(statistic=0.9461528332649155, pvalue=0.694601251101445)"
            ]
          },
          "metadata": {},
          "execution_count": 5
        }
      ]
    },
    {
      "cell_type": "markdown",
      "source": [
        "По результатам теста можно сказать, что данные распределены нормально. Следовательно, среднее также распределено нормально и можно использовать одновыборочный тест Стьюдента"
      ],
      "metadata": {
        "id": "Y_ZsF7drdLoF"
      }
    },
    {
      "cell_type": "markdown",
      "source": [
        "H0: Среднее напряжение наугад выбранных батареек равно 12 в\n",
        "\n",
        "H1: Среднее напряжение наугад выбранных батареек не равно 12 в\n",
        "\n",
        "alpfa=0.05"
      ],
      "metadata": {
        "id": "hqhqBV94EWfI"
      }
    },
    {
      "cell_type": "code",
      "execution_count": 6,
      "metadata": {
        "colab": {
          "base_uri": "https://localhost:8080/"
        },
        "id": "WDn_zbbk9PHV",
        "outputId": "5b732b6b-64e5-4f2f-9ef9-334e31900142"
      },
      "outputs": [
        {
          "output_type": "execute_result",
          "data": {
            "text/plain": [
              "TtestResult(statistic=2.1578017974978794, pvalue=0.07430190210562304, df=6)"
            ]
          },
          "metadata": {},
          "execution_count": 6
        }
      ],
      "source": [
        "stats.ttest_1samp(sample, popmean=12)"
      ]
    },
    {
      "cell_type": "code",
      "source": [
        "alpha = 0.05\n",
        "if stats.ttest_1samp(sample, popmean=12).pvalue < alpha:\n",
        "    print(\"Отвергаем нулевую гипотезу\")\n",
        "else:\n",
        "    print(\"Не отвергаем нулевую гипотезу\")"
      ],
      "metadata": {
        "colab": {
          "base_uri": "https://localhost:8080/"
        },
        "id": "kPBEr3rFQTpC",
        "outputId": "cbda86a0-dec3-4a8a-bd18-8606f6ab60e7"
      },
      "execution_count": 8,
      "outputs": [
        {
          "output_type": "stream",
          "name": "stdout",
          "text": [
            "Не отвергаем нулевую гипотезу\n"
          ]
        }
      ]
    },
    {
      "cell_type": "markdown",
      "source": [
        "По результатам теста можно сделать вывод, что нельзя отвергнуть нулевую гипотезу в пользу альтернативной на уровне значимости 0.05. Значит, мы можем считать, что среднее напряжение действительно равно 12в"
      ],
      "metadata": {
        "id": "aejWgEs3E0mt"
      }
    },
    {
      "cell_type": "markdown",
      "source": [
        "**Задача 2**\n",
        "\n",
        "Есть два различных метода определения процентного содержания жира в мясе. Доля жира для 10 образцов мяса была определена каждым из двух методов. Позволяют ли полученные результаты сделать вывод о том, что один метод даёт в среднем более высокие показания, чем другой?"
      ],
      "metadata": {
        "id": "IeoLIO1CIWBe"
      }
    },
    {
      "cell_type": "markdown",
      "source": [
        "H0: Нет различия в определении процентного содержания жира в мясе в обоих методах\n",
        "\n",
        "H1: Второй метод в среднем дает более высокие показания чем первый\n",
        "\n",
        "alpfa= 0.05"
      ],
      "metadata": {
        "id": "-If6munoJbqo"
      }
    },
    {
      "cell_type": "code",
      "source": [
        "x = np.array([23.1, 23.2, 26.5, 26.6, 27.1, 48.3, 40.5, 25.0, 38.4, 23.5])\n",
        "y = np.array([22.7, 23.6, 27.1, 27.4, 27.4, 46.8, 40.4, 24.9, 38.1, 23.8])\n",
        "stats.ttest_rel(x, y, alternative='less')"
      ],
      "metadata": {
        "colab": {
          "base_uri": "https://localhost:8080/"
        },
        "id": "rxep5NBHJ_gl",
        "outputId": "e3398739-e6a4-46ec-8693-9569534fd909"
      },
      "execution_count": 9,
      "outputs": [
        {
          "output_type": "execute_result",
          "data": {
            "text/plain": [
              "TtestResult(statistic=1.7154884978678027e-15, pvalue=0.5000000000000007, df=9)"
            ]
          },
          "metadata": {},
          "execution_count": 9
        }
      ]
    },
    {
      "cell_type": "code",
      "source": [
        "alpha = 0.05\n",
        "if stats.ttest_rel(x, y, alternative='less').pvalue < alpha:\n",
        "    print(\"Отвергаем нулевую гипотезу\")\n",
        "else:\n",
        "    print(\"Не отвергаем нулевую гипотезу\")"
      ],
      "metadata": {
        "colab": {
          "base_uri": "https://localhost:8080/"
        },
        "id": "fe9_68ANROa2",
        "outputId": "4445e18e-fe95-49ea-c06a-efc0ddc98585"
      },
      "execution_count": 10,
      "outputs": [
        {
          "output_type": "stream",
          "name": "stdout",
          "text": [
            "Не отвергаем нулевую гипотезу\n"
          ]
        }
      ]
    },
    {
      "cell_type": "markdown",
      "source": [
        "По результатату теста можно сделать вывод, что нельзя отвергнуть нулевую гипотезу в пользу альтернативной на уровне значимости 0.05. Значит нет различий в определении процентного содержания в мясе жира данными методами"
      ],
      "metadata": {
        "id": "LrdoPBeeWmV0"
      }
    },
    {
      "cell_type": "markdown",
      "source": [
        "**Задача 3**\n",
        "\n",
        "Для проверки гипотезы о том, что жители городов имеют в среднем более высокое систолическое артериальное давление, чем жители сельской местности, было проведено обследование 10 горожан и 9 жителей села примерно одного возраста. Получены следующие данные об уровне давления для горожан: 132, 111, 119, 138, 200, 131, 138, 170, 159, 140; для селян: 115, 190, 127, 155, 148, 121, 116, 121, 197. Можно ли считать верной выдвинутую гипотезу на уровне значимости 0,05?"
      ],
      "metadata": {
        "id": "a8pgM4DkXbFV"
      }
    },
    {
      "cell_type": "code",
      "source": [
        "city = np.array([132, 111, 119, 138, 200, 131, 138, 170, 159, 140])\n",
        "village = np.array([115, 190, 127, 155, 148, 121, 116, 121, 197])\n",
        "\n",
        "# Проверим данные на нормальность\n",
        "print(stats.shapiro(x))\n",
        "print(stats.shapiro(y))\n"
      ],
      "metadata": {
        "colab": {
          "base_uri": "https://localhost:8080/"
        },
        "id": "yrKUx9dscKHs",
        "outputId": "056fdc18-6d21-4cd8-d985-ee799180e752"
      },
      "execution_count": 11,
      "outputs": [
        {
          "output_type": "stream",
          "name": "stdout",
          "text": [
            "ShapiroResult(statistic=0.7863688288436634, pvalue=0.009897167254532586)\n",
            "ShapiroResult(statistic=0.8126781111446806, pvalue=0.02066336811509381)\n"
          ]
        }
      ]
    },
    {
      "cell_type": "markdown",
      "source": [
        "Оба набора данных имеют нормальное распределение. Дальше проверим гипотезу о равенстве дисперсий двух выборок с помощью критерия Фишера"
      ],
      "metadata": {
        "id": "4Q9ONbMXJJ8I"
      }
    },
    {
      "cell_type": "code",
      "source": [
        "# Дисперсии\n",
        "var_x = np.var(city)\n",
        "var_y = np.var(village)\n",
        "\n",
        "# Вычислим критерий Фишера\n",
        "T=var_x / var_y\n",
        "\n",
        "# Вычислим степени свободы\n",
        "df1 = len(city) - 1\n",
        "df2 = len(village) - 1"
      ],
      "metadata": {
        "id": "VEVWDTOYDt_H"
      },
      "execution_count": 12,
      "outputs": []
    },
    {
      "cell_type": "code",
      "source": [
        "from scipy.stats import f\n",
        "P = 1 - f.cdf(T, df1, df2)\n",
        "P"
      ],
      "metadata": {
        "colab": {
          "base_uri": "https://localhost:8080/"
        },
        "id": "apwnev0yFPeV",
        "outputId": "fc2a0ea2-95a5-43c5-afa3-021972cafc9f"
      },
      "execution_count": 13,
      "outputs": [
        {
          "output_type": "execute_result",
          "data": {
            "text/plain": [
              "0.7052382540926878"
            ]
          },
          "metadata": {},
          "execution_count": 13
        }
      ]
    },
    {
      "cell_type": "code",
      "source": [
        "alpha = 0.05\n",
        "if P < alpha:\n",
        "    print(\"Отвергаем нулевую гипотезу\")\n",
        "else:\n",
        "    print(\"Не отвергаем нулевую гипотезу\")"
      ],
      "metadata": {
        "colab": {
          "base_uri": "https://localhost:8080/"
        },
        "id": "xpue6JBgR2Pm",
        "outputId": "8306e5d3-f95e-4c5a-a59d-0823da28e7be"
      },
      "execution_count": 14,
      "outputs": [
        {
          "output_type": "stream",
          "name": "stdout",
          "text": [
            "Не отвергаем нулевую гипотезу\n"
          ]
        }
      ]
    },
    {
      "cell_type": "markdown",
      "source": [
        "На уровне значимости 0.05 мы не можем отвергнуть гипотезу о равенстве дисперсий. Для дальнейшего анализа на проверку средних используем t критерий Стьюдента для независимых выборок. Поставим гипотезы:"
      ],
      "metadata": {
        "id": "q6U5Cb6iJZ70"
      }
    },
    {
      "cell_type": "markdown",
      "source": [
        "H0: Жители городов и сельской местности в среднем имеют одинаковое систолическое артериальное давление\n",
        "\n",
        "H1: Жители городов имеют в среднем более высокое систолическое артериальное давление, чем жители сельской местности\n",
        "\n",
        "alpha=0.05"
      ],
      "metadata": {
        "id": "HsVPC5yBjYcg"
      }
    },
    {
      "cell_type": "code",
      "source": [
        "stats.ttest_ind(city,village).pvalue/2\n"
      ],
      "metadata": {
        "colab": {
          "base_uri": "https://localhost:8080/"
        },
        "id": "TSY_4_mw8odg",
        "outputId": "fa876529-3c39-4daf-e96e-0d5ed6aa1c21"
      },
      "execution_count": 15,
      "outputs": [
        {
          "output_type": "execute_result",
          "data": {
            "text/plain": [
              "0.486178812200461"
            ]
          },
          "metadata": {},
          "execution_count": 15
        }
      ]
    },
    {
      "cell_type": "code",
      "source": [
        "alpha = 0.05\n",
        "if stats.ttest_ind(city,village).pvalue/2 < alpha:\n",
        "    print(\"Отвергаем нулевую гипотезу\")\n",
        "else:\n",
        "    print(\"Не отвергаем нулевую гипотезу\")"
      ],
      "metadata": {
        "colab": {
          "base_uri": "https://localhost:8080/"
        },
        "id": "sRqad-rESDsz",
        "outputId": "b42e7a5c-ff2e-4bd5-c4fd-83af10891d8b"
      },
      "execution_count": 16,
      "outputs": [
        {
          "output_type": "stream",
          "name": "stdout",
          "text": [
            "Не отвергаем нулевую гипотезу\n"
          ]
        }
      ]
    },
    {
      "cell_type": "markdown",
      "source": [
        "По результатату теста можно сделать вывод, что нельзя отвергнуть нулевую гипотезу в пользу альтернативной на уровне значимости 0.05. Значит жители городов и сельской местности имеют в среднем одинаковое систолическое артериальное давление"
      ],
      "metadata": {
        "id": "J0Dod94vKYR8"
      }
    },
    {
      "cell_type": "markdown",
      "source": [
        "**Задача 4**\n",
        "\n",
        "Известно, что 52% новорождённых детей — мальчики, а 48% — девочки. В случайной выборке из 5 000 человек в возрасте от 30 до 60 лет мужчин оказалось 2 500. Можно ли на уровне значимости 0,05 считать, основываясь на этих данных, что смертность среди мужчин и женщин одинакова?"
      ],
      "metadata": {
        "id": "G6VLzmL8mv3J"
      }
    },
    {
      "cell_type": "markdown",
      "source": [
        "Для решения задачи используем биномиальный критерий о равенстве двух долей\n",
        "\n",
        "Запишем следующие гипотезы, по которым в дальнейшем можно будет ответить на поставленный вопрос:\n",
        "\n",
        "H0: Доля мужчин в выборке из 5000 человек равна доле рождения мальчиков\n",
        "\n",
        "H1: Доля мужчин в выборке из 5000 человек не равна доле рождения мальчиков\n",
        "\n",
        "alpha=0.05"
      ],
      "metadata": {
        "id": "80jOAqo_nIvr"
      }
    },
    {
      "cell_type": "code",
      "source": [
        "m1, n1 = 2500, 5000\n",
        "m2, n2 = 0.52 * 5000, 5000\n",
        "# m1/n1 - доля мужчин по выборке от общего количества\n",
        "# m2/n2 - доля мужчин в предположении, что должно быть 52% мужчин от общего количества"
      ],
      "metadata": {
        "id": "s4ynkZDUnjlX"
      },
      "execution_count": 18,
      "outputs": []
    },
    {
      "cell_type": "code",
      "source": [
        "T = (m1/n1 - m2/n2)/((m1+m2)/(n1+n2)*(1 - (m1+m2)/(n1+n2))*(1/n1 + 1/n2))**0.5\n",
        "P = 2 * min(stats.norm.cdf(T), 1 - stats.norm.cdf(T)) # Так как тест двусторонний\n",
        "print(\"Statistic: \",T,\", p-value: \",P)"
      ],
      "metadata": {
        "colab": {
          "base_uri": "https://localhost:8080/"
        },
        "id": "O_0vfBvrpcvN",
        "outputId": "d6042cd0-4047-4498-f05c-6ffa03574345"
      },
      "execution_count": 19,
      "outputs": [
        {
          "output_type": "stream",
          "name": "stdout",
          "text": [
            "Statistic:  -2.0004001200400157 , p-value:  0.04545707544501719\n"
          ]
        }
      ]
    },
    {
      "cell_type": "code",
      "source": [
        "alpha = 0.05\n",
        "if P < alpha:\n",
        "    print(\"Отвергаем нулевую гипотезу\")\n",
        "else:\n",
        "    print(\"Не отвергаем нулевую гипотезу\")"
      ],
      "metadata": {
        "colab": {
          "base_uri": "https://localhost:8080/"
        },
        "id": "m-RJ7TdnSlVv",
        "outputId": "58e663e0-8578-4b55-d120-399c0aaa838f"
      },
      "execution_count": 20,
      "outputs": [
        {
          "output_type": "stream",
          "name": "stdout",
          "text": [
            "Отвергаем нулевую гипотезу\n"
          ]
        }
      ]
    },
    {
      "cell_type": "markdown",
      "source": [
        "По результатам теста можно отвергнуть гипотезу H0  в пользу гипотезы H1 на уровне значимости 0.05. Значит, наблюдаемая доля мужчин (50%) статистически значимо отличается от доли при рождении (52%) и следовательно смертность среди мужчин выше, чем у женщин, так как их доля в выборке снизилась."
      ],
      "metadata": {
        "id": "R9tcgXCSynMI"
      }
    },
    {
      "cell_type": "markdown",
      "source": [
        "**Задача 5**\n",
        "\n",
        "В первом эксперименте для сравнения двух средних X1=17, X2=16 применялся\n",
        "\n",
        "t-критерий Стьюдента, и эти различия оказались значимы (p = 0, 001).\n",
        "\n",
        "Во втором исследовании, также при помощи t - критерия, сравнивались два средних\n",
        "\n",
        "X1=17, X2=36, и эти различия не значимы при p = 0,8. В чем может быть причина\n",
        "\n",
        "таких результатов, при условии, что нулевая и альтернативная гипотезы в обоих\n",
        "\n",
        "случаях одинаковы?\n"
      ],
      "metadata": {
        "id": "advxtkwszz6F"
      }
    },
    {
      "cell_type": "markdown",
      "source": [
        "Так как статистика критерия в критерии Стьюдента для независимых выборок зависит от средних, дисперсий и количества элементов, то:\n",
        "\n",
        "1) В случае первого теста могло быть один или несколько экстремальных выбросов, которые могли исказить среднее например в большую сторону и что также повлияло бы на дисперсию и увеличило ее\n",
        "\n",
        "2) Слишком большая разница в количестве элементов также повлияла бы на знаменатель статистики критерия\n",
        "\n"
      ],
      "metadata": {
        "id": "qFYUYqbJ0Bn3"
      }
    },
    {
      "cell_type": "markdown",
      "source": [
        "## **ДЗ_33. В форме ответов теперь нельзя исправить свое решение, поэтому напишу здесь исправленный вариант ответа на вопрос. Прошу не засчитывать ответ, который был отправлен в форме**"
      ],
      "metadata": {
        "id": "xjpZAI1KILnN"
      }
    },
    {
      "cell_type": "markdown",
      "source": [
        "Нужно сформулировать выводы в двух форматах:\n",
        "\n",
        "*   научном\n",
        "*   понятном человеку, который не является специалистом в статистике\n",
        "\n",
        "\n",
        "\n"
      ],
      "metadata": {
        "id": "QnV-gVyHIgfr"
      }
    },
    {
      "cell_type": "markdown",
      "source": [
        "1) Научный:\n",
        "\n",
        " По результатам теста выяснилось, что разница между гипотезами статистически значима и на уровне значимости 0.05 мы можем отвергнуть нулевую гипотезу о равенстве времени доставки в пользу альтернативной гипотезы о том, что изменения во времени доставки имеются\n",
        "\n",
        "2) Простой:\n",
        "\n",
        "По результатам теста выяснилось, что среднее время доставки сократилось благодаря тому, что курьеры часть заказов развозят по пути домой и поэтому нужно ввести эту фичу для всех курьеров"
      ],
      "metadata": {
        "id": "zuG3sjr-JQCg"
      }
    }
  ]
}